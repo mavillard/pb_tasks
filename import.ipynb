{
 "cells": [
  {
   "cell_type": "code",
   "execution_count": 1,
   "metadata": {},
   "outputs": [
    {
     "name": "stderr",
     "output_type": "stream",
     "text": [
      "/home/antonio/.virtualenvs/myvirtualenv/lib/python3.5/site-packages/psycopg2/__init__.py:144: UserWarning: The psycopg2 wheel package will be renamed from release 2.8; in order to keep installing from binary please use \"pip install psycopg2-binary\" instead. For details see: <http://initd.org/psycopg/docs/install.html#binary-install-from-pypi>.\n",
      "  \"\"\")\n"
     ]
    }
   ],
   "source": [
    "from datetime import datetime\n",
    "\n",
    "import pandas as pd\n",
    "import psycopg2\n",
    "from psycopg2.extras import Json"
   ]
  },
  {
   "cell_type": "code",
   "execution_count": 2,
   "metadata": {},
   "outputs": [],
   "source": [
    "df3600 = pd.read_csv('data/3600_tasks.csv', names=['sentence'], header=-0)"
   ]
  },
  {
   "cell_type": "code",
   "execution_count": 3,
   "metadata": {},
   "outputs": [],
   "source": [
    "SIZE = 100\n",
    "for i in range(0, len(df3600), SIZE):\n",
    "    df3600[i:i+SIZE].to_csv('data/parts/{}_{}.csv'.format(i, i + SIZE - 1), index=False)"
   ]
  },
  {
   "cell_type": "code",
   "execution_count": 4,
   "metadata": {},
   "outputs": [],
   "source": [
    "def columns2fields(columns):\n",
    "    columns_str = '('\n",
    "    for c in columns:\n",
    "        columns_str += c + ', '\n",
    "    columns_str = columns_str[:-2] + ')'\n",
    "    return columns_str\n",
    "\n",
    "def vformats():\n",
    "    return '(%s, %s, %s, %s, %s, %s, %s, %s, %s)'\n",
    "\n",
    "columns = [\n",
    "#     'id',\n",
    "    'created',\n",
    "    'project_id',\n",
    "    'state',\n",
    "    'quorum',\n",
    "    'calibration',\n",
    "    'priority_0',\n",
    "    'info',\n",
    "    'n_answers',\n",
    "    'fav_user_ids',\n",
    "]\n",
    "\n",
    "fields = columns2fields(columns)\n",
    "formats = vformats()"
   ]
  },
  {
   "cell_type": "code",
   "execution_count": 5,
   "metadata": {},
   "outputs": [],
   "source": [
    "conn = psycopg2.connect(\"dbname='pybossa' user='pybossa' host='localhost' port='5432' password='tester'\")\n",
    "cur = conn.cursor()"
   ]
  },
  {
   "cell_type": "code",
   "execution_count": 6,
   "metadata": {},
   "outputs": [],
   "source": [
    "cur.execute('DELETE FROM task;')\n",
    "cur.execute('DELETE FROM task_run;')\n",
    "cur.execute('ALTER SEQUENCE task_id_seq RESTART WITH 1;')\n",
    "cur.execute('ALTER SEQUENCE task_run_id_seq RESTART WITH 1;')"
   ]
  },
  {
   "cell_type": "code",
   "execution_count": 7,
   "metadata": {},
   "outputs": [],
   "source": [
    "sql = \"INSERT INTO task \" + fields + \" VALUES \" + formats\n",
    "\n",
    "for i in range(3600):\n",
    "    values = (\n",
    "#         i + 1,\n",
    "        datetime.today(),\n",
    "        1,\n",
    "        'ongoing',\n",
    "        0,\n",
    "        0,\n",
    "        0,\n",
    "        Json({'sentence': df3600.loc[i].sentence}),\n",
    "        3,\n",
    "        None,\n",
    "    )\n",
    "    cur.execute(sql, values)"
   ]
  },
  {
   "cell_type": "code",
   "execution_count": 8,
   "metadata": {},
   "outputs": [],
   "source": [
    "conn.commit()"
   ]
  },
  {
   "cell_type": "code",
   "execution_count": null,
   "metadata": {},
   "outputs": [],
   "source": []
  }
 ],
 "metadata": {
  "kernelspec": {
   "display_name": "Python 3",
   "language": "python",
   "name": "python3"
  },
  "language_info": {
   "codemirror_mode": {
    "name": "ipython",
    "version": 3
   },
   "file_extension": ".py",
   "mimetype": "text/x-python",
   "name": "python",
   "nbconvert_exporter": "python",
   "pygments_lexer": "ipython3",
   "version": "3.5.2"
  }
 },
 "nbformat": 4,
 "nbformat_minor": 2
}
